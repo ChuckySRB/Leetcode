{
 "cells": [
  {
   "cell_type": "markdown",
   "id": "e84f22a3",
   "metadata": {},
   "source": [
    "# 383. Ransom Note\n",
    "### Easy\n",
    "\n",
    "\n",
    "Given two strings ransomNote and magazine, return true if ransomNote can be constructed by using the letters from magazine and false otherwise.\n",
    "\n",
    "Each letter in magazine can only be used once in ransomNote."
   ]
  },
  {
   "cell_type": "code",
   "execution_count": null,
   "id": "99a5a07d",
   "metadata": {},
   "outputs": [],
   "source": [
    "def canConstruct(self, ransomNote, magazine):\n",
    "    \"\"\"\n",
    "    :type ransomNote: str\n",
    "    :type magazine: str\n",
    "    :rtype: bool\n",
    "    \"\"\"\n",
    "    rN = {}\n",
    "\n",
    "    for c in ransomNote:\n",
    "        if rN.get(c):\n",
    "            rN[c] += 1\n",
    "        else:\n",
    "            rN[c] = 1\n",
    "    # print(rN)\n",
    "    for b in magazine:\n",
    "        if rN.get(b):\n",
    "            rN[b] -= 1\n",
    "    # print(rN)\n",
    "    for val in rN.values():\n",
    "        if val > 0:\n",
    "            return False\n",
    "\n",
    "    return True"
   ]
  },
  {
   "cell_type": "code",
   "execution_count": null,
   "id": "7a8b041e",
   "metadata": {},
   "outputs": [],
   "source": [
    "ransomNote = \"acab\"\n",
    "magazine = \"aaabbc\"\n",
    "\n",
    "\n"
   ]
  },
  {
   "cell_type": "code",
   "execution_count": 3,
   "id": "b2d30c88",
   "metadata": {},
   "outputs": [],
   "source": [
    "rN = {}\n",
    "\n",
    "for c in ransomNote:\n",
    "    if rN.get(c):\n",
    "        rN[c] += 1\n",
    "    else:\n",
    "        rN[c] = 1"
   ]
  },
  {
   "cell_type": "code",
   "execution_count": null,
   "id": "95eff705",
   "metadata": {},
   "outputs": [],
   "source": [
    "for b in magazine:\n",
    "    if rN.get(b):\n",
    "        rN[b] -= 1\n",
    "    else:\n",
    "        print(False)\n",
    "        #return False\n",
    "\n",
    "for val in rN.values:\n",
    "    if val > 0:\n",
    "        print (False)\n",
    "        # return False\n",
    "\n",
    "print(True)\n",
    "# return true"
   ]
  }
 ],
 "metadata": {
  "kernelspec": {
   "display_name": "torch",
   "language": "python",
   "name": "python3"
  },
  "language_info": {
   "codemirror_mode": {
    "name": "ipython",
    "version": 3
   },
   "file_extension": ".py",
   "mimetype": "text/x-python",
   "name": "python",
   "nbconvert_exporter": "python",
   "pygments_lexer": "ipython3",
   "version": "3.11.10"
  }
 },
 "nbformat": 4,
 "nbformat_minor": 5
}
