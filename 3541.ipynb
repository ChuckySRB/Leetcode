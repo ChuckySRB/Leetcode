{
 "cells": [
  {
   "cell_type": "markdown",
   "id": "6b277f23",
   "metadata": {},
   "source": []
  },
  {
   "cell_type": "code",
   "execution_count": 7,
   "id": "a2570ab9",
   "metadata": {},
   "outputs": [],
   "source": [
    "def maxFreqSu(s):\n",
    "    \"\"\"\n",
    "    :type s: str\n",
    "    :rtype: int\n",
    "    \"\"\"\n",
    "\n",
    "    chars: dict = {}\n",
    "    for l in s:\n",
    "        if not chars.get(l):\n",
    "            chars[l] = 1\n",
    "        else:\n",
    "            chars[l]+=1\n",
    "    vov = 0\n",
    "    oth = 0\n",
    "\n",
    "    vovels = ['a', 'e', 'i', 'o', 'u']\n",
    "    for k, v in chars.items():\n",
    "        if k in vovels and v > vov:\n",
    "            vov = v\n",
    "        elif k not in vovels and v > oth:\n",
    "            oth = v\n",
    "    \n",
    "    return vov + oth"
   ]
  },
  {
   "cell_type": "code",
   "execution_count": 8,
   "id": "674ff2db",
   "metadata": {},
   "outputs": [
    {
     "data": {
      "text/plain": [
       "4"
      ]
     },
     "execution_count": 8,
     "metadata": {},
     "output_type": "execute_result"
    }
   ],
   "source": [
    "maxFreqSu(\"abaa\")"
   ]
  }
 ],
 "metadata": {
  "kernelspec": {
   "display_name": "torch",
   "language": "python",
   "name": "python3"
  },
  "language_info": {
   "codemirror_mode": {
    "name": "ipython",
    "version": 3
   },
   "file_extension": ".py",
   "mimetype": "text/x-python",
   "name": "python",
   "nbconvert_exporter": "python",
   "pygments_lexer": "ipython3",
   "version": "3.11.10"
  }
 },
 "nbformat": 4,
 "nbformat_minor": 5
}
