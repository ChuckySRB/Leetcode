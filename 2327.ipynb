{
 "cells": [
  {
   "cell_type": "markdown",
   "id": "6df00947",
   "metadata": {},
   "source": [
    "### 2327. Number of People Aware of a Secret\n",
    "# Medium\n",
    "\n",
    "On day 1, one person discovers a secret.\n",
    "\n",
    "You are given an integer delay, which means that each person will share the secret with a new person every day, starting from delay days after discovering the secret. You are also given an integer forget, which means that each person will forget the secret forget days after discovering it. A person cannot share the secret on the same day they forgot it, or on any day afterwards.\n",
    "\n",
    "Given an integer n, return the number of people who know the secret at the end of day n. Since the answer may be very large, return it modulo 109 + 7.\n",
    "\n",
    " \n",
    "\n",
    "Example 1:\n",
    "\n",
    "Input: n = 6, delay = 2, forget = 4\n",
    "Output: 5\n",
    "Explanation:\n",
    "Day 1: Suppose the first person is named A. (1 person)\n",
    "Day 2: A is the only person who knows the secret. (1 person)\n",
    "Day 3: A shares the secret with a new person, B. (2 people)\n",
    "Day 4: A shares the secret with a new person, C. (3 people)\n",
    "Day 5: A forgets the secret, and B shares the secret with a new person, D. (3 people)\n",
    "Day 6: B shares the secret with E, and C shares the secret with F. (5 people)"
   ]
  },
  {
   "cell_type": "code",
   "execution_count": 1,
   "id": "864be50d",
   "metadata": {},
   "outputs": [],
   "source": [
    "def peopleAwareOfSecret(n, delay, forget):\n",
    "    \"\"\"\n",
    "    :type n: int\n",
    "    :type delay: int\n",
    "    :type forget: int\n",
    "    :rtype: int\n",
    "    \"\"\"\n",
    "    "
   ]
  },
  {
   "cell_type": "code",
   "execution_count": 2,
   "id": "80fd9562",
   "metadata": {},
   "outputs": [],
   "source": [
    "n = 6\n",
    "delay = 2\n",
    "forget = 4\n"
   ]
  },
  {
   "cell_type": "code",
   "execution_count": 31,
   "id": "a386523d",
   "metadata": {},
   "outputs": [],
   "source": [
    "delay_list = [0] * delay\n",
    "forget_list = [0] * forget\n",
    "\n",
    "current_day = 1\n",
    "delay_list[0] = 1\n",
    "forget_list[0] = 1"
   ]
  },
  {
   "cell_type": "code",
   "execution_count": null,
   "id": "da86a516",
   "metadata": {},
   "outputs": [
    {
     "name": "stdout",
     "output_type": "stream",
     "text": [
      "Day: 2, Secret: 1\n",
      "DelayList: [0, 1]\n",
      "ForgetList: [0, 1, 0, 0]\n",
      "===============================\n",
      "Day: 3, Secret: 2\n",
      "DelayList: [1, 1]\n",
      "ForgetList: [1, 0, 1, 0]\n",
      "===============================\n",
      "Day: 4, Secret: 3\n",
      "DelayList: [1, 2]\n",
      "ForgetList: [1, 1, 0, 1]\n",
      "===============================\n",
      "Day: 5, Secret: 3\n",
      "DelayList: [1, 2]\n",
      "ForgetList: [1, 1, 1, 0]\n",
      "===============================\n",
      "Day: 6, Secret: 5\n",
      "DelayList: [2, 3]\n",
      "ForgetList: [2, 1, 1, 1]\n",
      "===============================\n",
      "5\n"
     ]
    }
   ],
   "source": [
    "while current_day < n:\n",
    "    n_forget = forget_list[-1]\n",
    "    n_delay = delay_list[-1] - n_forget \n",
    "    # Shift forget list\n",
    "    for i in range(forget-1, 0, -1):\n",
    "        forget_list[i] = forget_list[i-1]\n",
    "    forget_list[0] = n_delay\n",
    "    for i in range(delay-1, 0, -1):\n",
    "        delay_list[i] = delay_list[i-1]\n",
    "    delay_list[0] = n_delay\n",
    "    # Set the new active wisperers\n",
    "    delay_list[-1] = delay_list[-1] + n_delay\n",
    "    current_day+=1\n",
    "    print(f\"Day: {current_day}, Secret: {sum(delay_list)}\")\n",
    "    print(f\"DelayList: {delay_list}\")\n",
    "    print(f\"ForgetList: {forget_list}\")\n",
    "\n",
    "\n",
    "    print(\"===============================\")\n",
    "\n",
    "    \n",
    "\n",
    "people_who_know = sum(delay_list) % (10**9 + 7)\n",
    "\n",
    "print(people_who_know)\n"
   ]
  },
  {
   "cell_type": "code",
   "execution_count": null,
   "id": "da201cd7",
   "metadata": {},
   "outputs": [
    {
     "name": "stdout",
     "output_type": "stream",
     "text": [
      "[3, 2, 1]\n"
     ]
    }
   ],
   "source": [
    "print([i for i in range(3, 0, -1)])\n"
   ]
  },
  {
   "cell_type": "code",
   "execution_count": null,
   "id": "121535e1",
   "metadata": {},
   "outputs": [],
   "source": []
  }
 ],
 "metadata": {
  "kernelspec": {
   "display_name": "torch",
   "language": "python",
   "name": "python3"
  },
  "language_info": {
   "codemirror_mode": {
    "name": "ipython",
    "version": 3
   },
   "file_extension": ".py",
   "mimetype": "text/x-python",
   "name": "python",
   "nbconvert_exporter": "python",
   "pygments_lexer": "ipython3",
   "version": "3.11.10"
  }
 },
 "nbformat": 4,
 "nbformat_minor": 5
}
