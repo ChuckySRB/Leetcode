{
 "cells": [
  {
   "cell_type": "markdown",
   "id": "58dd5720",
   "metadata": {},
   "source": [
    "# 2353. Design a Food Rating System\n",
    "# Medium\n",
    "\n",
    "Design a food rating system that can do the following:\n",
    "\n",
    "Modify the rating of a food item listed in the system.\n",
    "Return the highest-rated food item for a type of cuisine in the system.\n",
    "Implement the FoodRatings class:\n",
    "\n",
    "FoodRatings(String[] foods, String[] cuisines, int[] ratings) Initializes the system. The food items are described by foods, cuisines and ratings, all of which have a length of n.\n",
    "foods[i] is the name of the ith food,\n",
    "cuisines[i] is the type of cuisine of the ith food, and\n",
    "ratings[i] is the initial rating of the ith food.\n",
    "void changeRating(String food, int newRating) Changes the rating of the food item with the name food.\n",
    "String highestRated(String cuisine) Returns the name of the food item that has the highest rating for the given type of cuisine. If there is a tie, return the item with the lexicographically smaller name.\n",
    "Note that a string x is lexicographically smaller than string y if x comes before y in dictionary order, that is, either x is a prefix of y, or if i is the first position such that x[i] != y[i], then x[i] comes before y[i] in alphabetic order.\n",
    "\n",
    " "
   ]
  },
  {
   "cell_type": "code",
   "execution_count": 112,
   "id": "548c9b9f",
   "metadata": {},
   "outputs": [],
   "source": [
    "class OrderedList(object):\n",
    "    def __init__(self):\n",
    "        self.storage = []\n",
    "\n",
    "    def compare(self, food1, food2):\n",
    "        # food1 and food2 are [name, rating]\n",
    "        # Return True if food1 should come before food2\n",
    "        if food1[1] > food2[1]:\n",
    "            return True\n",
    "        if food1[1] == food2[1] and food1[0] < food2[0]:\n",
    "            return True\n",
    "        return False\n",
    "\n",
    "    def add_element(self, food, rating):\n",
    "        # Insert [food, rating] into storage maintaining order\n",
    "        n = len(self.storage)\n",
    "        if n == 0:\n",
    "            self.storage.append([food, rating])\n",
    "            return\n",
    "        # Find the position to insert\n",
    "        left, right = 0, n\n",
    "        while left < right:\n",
    "            mid = (left + right) // 2\n",
    "            if self.compare([food, rating], self.storage[mid]):\n",
    "                right = mid\n",
    "            else:\n",
    "                left = mid + 1\n",
    "        self.storage.insert(left, [food, rating])\n",
    "\n",
    "    def remove_element(self, food):\n",
    "        # Remove the element with name == food\n",
    "        for i in range(len(self.storage)):\n",
    "            if self.storage[i][0] == food:\n",
    "                self.storage.pop(i)\n",
    "                break\n",
    "\n",
    "    def is_ordered(self):\n",
    "        # Check if the storage is ordered correctly\n",
    "        for i in range(len(self.storage) - 1):\n",
    "            if not self.compare(self.storage[i], self.storage[i+1]):\n",
    "                return False\n",
    "        return True\n",
    "\n",
    "    def pop_element(self):\n",
    "        self.storage.pop(0)\n",
    "    \n",
    "    def get_first(self):\n",
    "        return self.storage[0]\n"
   ]
  },
  {
   "cell_type": "code",
   "execution_count": 113,
   "id": "23a35020",
   "metadata": {},
   "outputs": [],
   "source": [
    "class FoodRatings(object):\n",
    "\n",
    "    def __init__(self, foods, cuisines, ratings):\n",
    "        \"\"\"\n",
    "        :type foods: List[str]\n",
    "        :type cuisines: List[str]\n",
    "        :type ratings: List[int]\n",
    "        \"\"\"\n",
    "        self.n = len(foods)\n",
    "        self.foods_dict = {v: [cuisines[k], ratings[k]] for k, v in enumerate(foods)}\n",
    "        self.cuisines = {}\n",
    "        for i in range(self.n):\n",
    "            if not self.cuisines.get(cuisines[i]):\n",
    "                self.cuisines[cuisines[i]] = OrderedList()\n",
    "            self.cuisines[cuisines[i]].add_element(foods[i], ratings[i])\n",
    "        \n",
    "\n",
    "    def changeRating(self, food, newRating):\n",
    "        \"\"\"\n",
    "        :type food: str\n",
    "        :type newRating: int\n",
    "        :rtype: None\n",
    "        \"\"\"\n",
    "        \n",
    "        self.foods_dict[food][1] = newRating\n",
    "\n",
    "        self.cuisines[self.foods_dict[food][0]].add_element(food, newRating)\n",
    "\n",
    "\n",
    "\n",
    "    def highestRated(self, cuisine):\n",
    "        \"\"\"\n",
    "        :type cuisine: str\n",
    "        :rtype: str\n",
    "        \"\"\"\n",
    "        while True:\n",
    "            food = self.cuisines[cuisine].get_first()\n",
    "            if self.foods_dict[food[0]][1] == food[1]:\n",
    "                return food[0]\n",
    "            else:\n",
    "                self.cuisines[cuisine].pop_element() \n",
    "\n",
    "\n",
    "        \n",
    "\n",
    "        \n",
    "       "
   ]
  },
  {
   "cell_type": "code",
   "execution_count": 114,
   "id": "15a2a59b",
   "metadata": {},
   "outputs": [],
   "source": [
    "foods = [\"kimchi\", \"miso\", \"sushi\", \"moussaka\", \"ramen\", \"bulgogi\"]\n",
    "cuisines = [\"korean\", \"japanese\", \"japanese\", \"greek\", \"japanese\", \"korean\"]\n",
    "ratings = [9, 12, 8, 15, 14, 7]\n",
    "\n",
    "food, newRating = \"sushi\", 14\n",
    "cuisine = \"japanese\""
   ]
  },
  {
   "cell_type": "code",
   "execution_count": 115,
   "id": "3378b62f",
   "metadata": {},
   "outputs": [],
   "source": [
    "# Your FoodRatings object will be instantiated and called as such:\n",
    "obj = FoodRatings(foods, cuisines, ratings)\n",
    "obj.changeRating(food,newRating)\n",
    "param_2 = obj.highestRated(cuisine)"
   ]
  },
  {
   "cell_type": "code",
   "execution_count": 116,
   "id": "9a19d289",
   "metadata": {},
   "outputs": [
    {
     "data": {
      "text/plain": [
       "'ramen'"
      ]
     },
     "execution_count": 116,
     "metadata": {},
     "output_type": "execute_result"
    }
   ],
   "source": [
    "param_2"
   ]
  }
 ],
 "metadata": {
  "kernelspec": {
   "display_name": "torch",
   "language": "python",
   "name": "python3"
  },
  "language_info": {
   "codemirror_mode": {
    "name": "ipython",
    "version": 3
   },
   "file_extension": ".py",
   "mimetype": "text/x-python",
   "name": "python",
   "nbconvert_exporter": "python",
   "pygments_lexer": "ipython3",
   "version": "3.11.10"
  }
 },
 "nbformat": 4,
 "nbformat_minor": 5
}
