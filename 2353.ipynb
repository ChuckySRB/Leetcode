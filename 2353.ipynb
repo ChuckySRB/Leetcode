{
 "cells": [
  {
   "cell_type": "markdown",
   "id": "58dd5720",
   "metadata": {},
   "source": [
    "# 2353. Design a Food Rating System\n",
    "# Medium\n",
    "\n",
    "Design a food rating system that can do the following:\n",
    "\n",
    "Modify the rating of a food item listed in the system.\n",
    "Return the highest-rated food item for a type of cuisine in the system.\n",
    "Implement the FoodRatings class:\n",
    "\n",
    "FoodRatings(String[] foods, String[] cuisines, int[] ratings) Initializes the system. The food items are described by foods, cuisines and ratings, all of which have a length of n.\n",
    "foods[i] is the name of the ith food,\n",
    "cuisines[i] is the type of cuisine of the ith food, and\n",
    "ratings[i] is the initial rating of the ith food.\n",
    "void changeRating(String food, int newRating) Changes the rating of the food item with the name food.\n",
    "String highestRated(String cuisine) Returns the name of the food item that has the highest rating for the given type of cuisine. If there is a tie, return the item with the lexicographically smaller name.\n",
    "Note that a string x is lexicographically smaller than string y if x comes before y in dictionary order, that is, either x is a prefix of y, or if i is the first position such that x[i] != y[i], then x[i] comes before y[i] in alphabetic order.\n",
    "\n",
    " "
   ]
  },
  {
   "cell_type": "code",
   "execution_count": 75,
   "id": "23a35020",
   "metadata": {},
   "outputs": [],
   "source": [
    "class FoodRatings(object):\n",
    "\n",
    "    def __init__(self, foods, cuisines, ratings):\n",
    "        \"\"\"\n",
    "        :type foods: List[str]\n",
    "        :type cuisines: List[str]\n",
    "        :type ratings: List[int]\n",
    "        \"\"\"\n",
    "        self.n = len(foods)\n",
    "        self.foods = foods\n",
    "        self.foods_dict = {v: k for k, v in enumerate(foods)}\n",
    "        self.cuisines = {}\n",
    "        for i in range(self.n):\n",
    "            if not self.cuisines.get(cuisines[i]):\n",
    "                self.cuisines[cuisines[i]] = []\n",
    "            self.cuisines[cuisines[i]].append(i)\n",
    "        self.ratings = ratings\n",
    "        \n",
    "\n",
    "    def changeRating(self, food, newRating):\n",
    "        \"\"\"\n",
    "        :type food: str\n",
    "        :type newRating: int\n",
    "        :rtype: None\n",
    "        \"\"\"\n",
    "        \n",
    "        index = self.foods_dict[food]\n",
    "        self.ratings[index] = newRating\n",
    "\n",
    "\n",
    "    def highestRated(self, cuisine):\n",
    "        \"\"\"\n",
    "        :type cuisine: str\n",
    "        :rtype: str\n",
    "        \"\"\"\n",
    "\n",
    "        highest = None\n",
    "        rating = -1\n",
    "\n",
    "        for i in self.cuisines[cuisine]:\n",
    "            if self.ratings[i] >= rating and (highest == None or not (self.ratings[i] == rating and self.foods[i].lower() > highest.lower())):\n",
    "                highest = self.foods[i]\n",
    "                rating = self.ratings[i]\n",
    "        return highest\n",
    "\n",
    "\n",
    "        \n",
    "\n",
    "        \n",
    "       "
   ]
  },
  {
   "cell_type": "code",
   "execution_count": 76,
   "id": "15a2a59b",
   "metadata": {},
   "outputs": [],
   "source": [
    "foods = [\"kimchi\", \"miso\", \"sushi\", \"moussaka\", \"ramen\", \"bulgogi\"]\n",
    "cuisines = [\"korean\", \"japanese\", \"japanese\", \"greek\", \"japanese\", \"korean\"]\n",
    "ratings = [9, 12, 8, 15, 14, 7]\n",
    "\n",
    "food, newRating = \"sushi\", 14\n",
    "cuisine = \"japanese\""
   ]
  },
  {
   "cell_type": "code",
   "execution_count": 77,
   "id": "3378b62f",
   "metadata": {},
   "outputs": [],
   "source": [
    "# Your FoodRatings object will be instantiated and called as such:\n",
    "obj = FoodRatings(foods, cuisines, ratings)\n",
    "obj.changeRating(food,newRating)\n",
    "param_2 = obj.highestRated(cuisine)"
   ]
  },
  {
   "cell_type": "code",
   "execution_count": 78,
   "id": "9a19d289",
   "metadata": {},
   "outputs": [
    {
     "data": {
      "text/plain": [
       "'ramen'"
      ]
     },
     "execution_count": 78,
     "metadata": {},
     "output_type": "execute_result"
    }
   ],
   "source": [
    "param_2"
   ]
  },
  {
   "cell_type": "code",
   "execution_count": null,
   "id": "bd03f852",
   "metadata": {},
   "outputs": [],
   "source": []
  },
  {
   "cell_type": "code",
   "execution_count": null,
   "id": "67df39c6",
   "metadata": {},
   "outputs": [],
   "source": []
  },
  {
   "cell_type": "code",
   "execution_count": null,
   "id": "974ae547",
   "metadata": {},
   "outputs": [],
   "source": []
  }
 ],
 "metadata": {
  "kernelspec": {
   "display_name": "torch",
   "language": "python",
   "name": "python3"
  },
  "language_info": {
   "codemirror_mode": {
    "name": "ipython",
    "version": 3
   },
   "file_extension": ".py",
   "mimetype": "text/x-python",
   "name": "python",
   "nbconvert_exporter": "python",
   "pygments_lexer": "ipython3",
   "version": "3.11.10"
  }
 },
 "nbformat": 4,
 "nbformat_minor": 5
}
