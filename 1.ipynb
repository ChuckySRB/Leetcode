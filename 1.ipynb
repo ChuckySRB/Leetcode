{
 "cells": [
  {
   "cell_type": "code",
   "execution_count": 22,
   "id": "087fbed9",
   "metadata": {},
   "outputs": [],
   "source": [
    "target  = 9\n",
    "\n",
    "nums = [1, 2, 3, 4, 5, 5]"
   ]
  },
  {
   "cell_type": "code",
   "execution_count": 8,
   "id": "804360c3",
   "metadata": {},
   "outputs": [
    {
     "name": "stdout",
     "output_type": "stream",
     "text": [
      "[4, 5]\n"
     ]
    }
   ],
   "source": [
    "for (i, n) in enumerate(nums[:-1]):\n",
    "    for (j, m) in enumerate(nums[i+1:]):\n",
    "        # print(n, m)\n",
    "        if n+m == target:\n",
    "            print([i, j+i+1])\n",
    "            break"
   ]
  },
  {
   "cell_type": "code",
   "execution_count": 9,
   "id": "7900f013",
   "metadata": {},
   "outputs": [],
   "source": [
    "import numpy as np"
   ]
  },
  {
   "cell_type": "code",
   "execution_count": 35,
   "id": "a52f7adf",
   "metadata": {},
   "outputs": [
    {
     "name": "stdout",
     "output_type": "stream",
     "text": [
      "[[inf  3.  4.  5.  6.]\n",
      " [inf inf  5.  6.  7.]\n",
      " [inf inf inf  7.  8.]\n",
      " [inf inf inf inf  9.]\n",
      " [inf inf inf inf inf]]\n"
     ]
    }
   ],
   "source": [
    "k = np.array([1, 2, 3, 4, 5])\n",
    "\n",
    "k = np.tile(k, (k.shape[0], 1))\n",
    "\n",
    "triangle = np.tril(np.full_like(k, np.inf, dtype=float), k=0) + 1\n",
    "\n",
    "final = (k + np.transpose(k)) * triangle\\\n",
    "\n",
    "print(final)\n"
   ]
  },
  {
   "cell_type": "code",
   "execution_count": 36,
   "id": "8e842af5",
   "metadata": {},
   "outputs": [
    {
     "data": {
      "text/plain": [
       "[3, 4]"
      ]
     },
     "execution_count": 36,
     "metadata": {},
     "output_type": "execute_result"
    }
   ],
   "source": [
    "np.argwhere(final == target).tolist()[0]\n",
    "\n"
   ]
  },
  {
   "cell_type": "code",
   "execution_count": 49,
   "id": "ded6ec6a",
   "metadata": {},
   "outputs": [
    {
     "name": "stdout",
     "output_type": "stream",
     "text": [
      "[3, 4]\n"
     ]
    }
   ],
   "source": [
    "\n",
    "lst = [1, 2, 3, 4, 5]\n",
    "inx = list(range(len(lst)))\n",
    "\n",
    "\n",
    "inx = list(combinations(inx, 2))\n",
    "pairs = list(map(lambda x: (lst[x[0]] + lst[x[1]]), inx))\n",
    "\n",
    "for i, y in zip(pairs, inx):\n",
    "    if i == target:\n",
    "        print(list(y))"
   ]
  },
  {
   "cell_type": "code",
   "execution_count": null,
   "id": "438b0ad7",
   "metadata": {},
   "outputs": [
    {
     "data": {
      "text/plain": [
       "array([8, 7, 6, 5, 4, 4])"
      ]
     },
     "execution_count": 56,
     "metadata": {},
     "output_type": "execute_result"
    }
   ],
   "source": [
    "npnums = np.array(nums)\n",
    "npnums = target - npnums\n",
    "nums2 = npnums.tolist()\n",
    "\n",
    "for i, num in enumerate(nums2):\n",
    "    if num in nums:\n",
    "        for j, num2 in enumerate(nums):\n",
    "            if num2 == num:\n",
    "                print [i, j]\n"
   ]
  }
 ],
 "metadata": {
  "kernelspec": {
   "display_name": "torch",
   "language": "python",
   "name": "python3"
  },
  "language_info": {
   "codemirror_mode": {
    "name": "ipython",
    "version": 3
   },
   "file_extension": ".py",
   "mimetype": "text/x-python",
   "name": "python",
   "nbconvert_exporter": "python",
   "pygments_lexer": "ipython3",
   "version": "3.11.10"
  }
 },
 "nbformat": 4,
 "nbformat_minor": 5
}
