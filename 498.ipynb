{
 "cells": [
  {
   "cell_type": "markdown",
   "id": "cdafb863",
   "metadata": {},
   "source": [
    "# 498. Diagonal Traverse\n",
    "### Medium\n",
    "\n",
    "Given an m x n matrix mat, return an array of all the elements of the array in a diagonal order."
   ]
  },
  {
   "cell_type": "code",
   "execution_count": 22,
   "id": "7a956117",
   "metadata": {},
   "outputs": [],
   "source": [
    "def findDiagonalOrder(mat):\n",
    "    \"\"\"\n",
    "    :type mat: List[List[int]]\n",
    "    :rtype: List[int]\n",
    "    \"\"\"\n",
    "\n",
    "    i: int = 0\n",
    "    j: int = 0\n",
    "    n = len(mat)\n",
    "    m = len(mat[0])\n",
    "\n",
    "    diagonal = []\n",
    "\n",
    "    while True:\n",
    "        while True:\n",
    "            diagonal.append(mat[i][j])\n",
    "            if i != 0 and  j != m-1:\n",
    "                i -= 1\n",
    "                j += 1\n",
    "            else:\n",
    "                if j != m-1:\n",
    "                    j += 1\n",
    "                elif i != n-1:\n",
    "                    i += 1\n",
    "                else:\n",
    "                    return diagonal\n",
    "                break\n",
    "\n",
    "        while True:\n",
    "            diagonal.append(mat[i][j])\n",
    "            if i != n - 1 and  j != 0:\n",
    "                i += 1\n",
    "                j -= 1\n",
    "            else:\n",
    "                if i != n-1:\n",
    "                    i += 1\n",
    "                elif j != m-1:\n",
    "                    j += 1\n",
    "                else:\n",
    "                    return diagonal\n",
    "                break\n",
    "        "
   ]
  },
  {
   "cell_type": "code",
   "execution_count": 23,
   "id": "3ab04910",
   "metadata": {},
   "outputs": [],
   "source": [
    "mat = [[1,2,3],[4,5,6],[7,8,9]]\n",
    "diagonal = findDiagonalOrder(mat)"
   ]
  },
  {
   "cell_type": "code",
   "execution_count": 24,
   "id": "43cbca91",
   "metadata": {},
   "outputs": [
    {
     "name": "stdout",
     "output_type": "stream",
     "text": [
      "[1, 2, 4, 7, 5, 3, 6, 8, 9]\n"
     ]
    }
   ],
   "source": [
    "print(diagonal)"
   ]
  },
  {
   "cell_type": "code",
   "execution_count": null,
   "id": "8b704a84",
   "metadata": {},
   "outputs": [],
   "source": []
  }
 ],
 "metadata": {
  "kernelspec": {
   "display_name": "torch",
   "language": "python",
   "name": "python3"
  },
  "language_info": {
   "codemirror_mode": {
    "name": "ipython",
    "version": 3
   },
   "file_extension": ".py",
   "mimetype": "text/x-python",
   "name": "python",
   "nbconvert_exporter": "python",
   "pygments_lexer": "ipython3",
   "version": "3.11.10"
  }
 },
 "nbformat": 4,
 "nbformat_minor": 5
}
