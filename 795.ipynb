{
 "cells": [
  {
   "cell_type": "markdown",
   "id": "992f5b55",
   "metadata": {},
   "source": [
    "\n",
    "# 797. All Paths From Source to Target\n",
    "## Medium\n",
    "Given a directed acyclic graph (DAG) of n nodes labeled from 0 to n - 1, find all possible paths from node 0 to node n - 1 and return them in any order.\n",
    "\n",
    "The graph is given as follows: graph[i] is a list of all nodes you can visit from node i (i.e., there is a directed edge from node i to node graph[i][j])."
   ]
  },
  {
   "cell_type": "code",
   "execution_count": 4,
   "id": "a0fc2e34",
   "metadata": {},
   "outputs": [],
   "source": [
    "def allPathsSourceTarget(self, graph):\n",
    "        \"\"\"\n",
    "        :type graph: List[List[int]]\n",
    "        :rtype: List[List[int]]\n",
    "        \"\"\"\n",
    "\n",
    "    "
   ]
  },
  {
   "cell_type": "code",
   "execution_count": null,
   "id": "fd67e63b",
   "metadata": {},
   "outputs": [],
   "source": [
    "def iter_graph(self, graph, current_path, graph_list):\n",
    "    final_node = len(graph) - 1\n",
    "    if len(graph_list) == 0:\n",
    "        return []\n",
    "    \n",
    "    final_paths = []\n",
    "\n",
    "    for node in graph_list:\n",
    "        if node == final_node:\n",
    "            final_paths.append(current_path + [final_node])\n",
    "        else:\n",
    "            paths = iter_graph(graph, current_path + [node], graph[node])\n",
    "            final_paths += paths\n",
    "    \n",
    "    return final_paths"
   ]
  }
 ],
 "metadata": {
  "kernelspec": {
   "display_name": "torch",
   "language": "python",
   "name": "python3"
  },
  "language_info": {
   "codemirror_mode": {
    "name": "ipython",
    "version": 3
   },
   "file_extension": ".py",
   "mimetype": "text/x-python",
   "name": "python",
   "nbconvert_exporter": "python",
   "pygments_lexer": "ipython3",
   "version": "3.11.10"
  }
 },
 "nbformat": 4,
 "nbformat_minor": 5
}
