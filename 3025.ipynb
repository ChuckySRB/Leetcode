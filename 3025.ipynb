{
 "cells": [
  {
   "cell_type": "markdown",
   "id": "bd721e52",
   "metadata": {},
   "source": [
    "\n",
    "# 3025. Find the Number of Ways to Place People I\n",
    "### Medium\n",
    "\n",
    "You are given a 2D array points of size n x 2 representing integer coordinates of some points on a 2D plane, where points[i] = [xi, yi].\n",
    "\n",
    "Count the number of pairs of points (A, B), where\n",
    "\n",
    "A is on the upper left side of B, and\n",
    "there are no other points in the rectangle (or line) they make (including the border).\n",
    "Return the count.\n",
    "\n",
    " "
   ]
  },
  {
   "cell_type": "code",
   "execution_count": null,
   "id": "e6034a44",
   "metadata": {},
   "outputs": [],
   "source": [
    "def numberOfPairs(points):\n",
    "    \"\"\"\n",
    "    :type points: List[List[int]]\n",
    "    :rtype: int\n",
    "    \"\"\"\n",
    "    # This creates a 50x50 2D list (matrix) filled with zeros, with each row being a separate object.\n",
    "    N = [[0]*50 for _ in range(50)]\n",
    "    points = [[3,1],[1,3],[1,1]]\n",
    "    for point in points:\n",
    "        N[50 - point[0]][point[1]] = 1\n",
    "    final_points = []\n",
    "    final_count = 0\n",
    "    for i in range(50):\n",
    "        for j in range(50):\n",
    "            if N[i][j] == 1:\n",
    "                # print(i, j)\n",
    "                check_points = final_points.copy()\n",
    "                for k in range(i, 50):\n",
    "                    for l in range(j, 50):\n",
    "                        if N[k][l] == 1 and not(k == i and l == j):\n",
    "                            check = True\n",
    "                            # print(check_points)\n",
    "                            for final_point in check_points:\n",
    "                                if (final_point[0] <= k and final_point[0] >= i) or (final_point[0] >= k and final_point[1] >= l):\n",
    "                                    check = False\n",
    "                                    break\n",
    "                            check_points.append([k, l])\n",
    "                            if check:\n",
    "                                final_count += 1\n",
    "                final_points.append([i, j])\n",
    "\n",
    "    return final_count\n",
    "    "
   ]
  },
  {
   "cell_type": "code",
   "execution_count": 64,
   "id": "62c2012a",
   "metadata": {},
   "outputs": [
    {
     "name": "stdout",
     "output_type": "stream",
     "text": [
      "50\n",
      "50\n",
      "0\n"
     ]
    }
   ],
   "source": [
    "# This creates a 50x50 2D list (matrix) filled with zeros, with each row being a separate object.\n",
    "N = [[0]*50 for _ in range(50)]\n",
    "points = [[6,2],[4,4],[2,6]]\n",
    "\n",
    "print(len(N))\n",
    "print(len(N[0]))\n",
    "print(N[0][1])\n"
   ]
  },
  {
   "cell_type": "code",
   "execution_count": 65,
   "id": "1b75be28",
   "metadata": {},
   "outputs": [],
   "source": [
    "for point in points:\n",
    "    N[50 - point[0]][point[1]] = 1\n"
   ]
  },
  {
   "cell_type": "code",
   "execution_count": 66,
   "id": "81f8cbc1",
   "metadata": {},
   "outputs": [
    {
     "name": "stdout",
     "output_type": "stream",
     "text": [
      "44 2\n",
      "[]\n",
      "46 4\n",
      "[[46, 4]]\n",
      "46 4\n",
      "[[44, 2]]\n",
      "48 6\n",
      "48 6\n",
      "2\n"
     ]
    }
   ],
   "source": [
    "final_count = 0\n",
    "final_points = []\n",
    "for i in range(50):\n",
    "    for j in range(50):\n",
    "        if N[i][j] == 1:\n",
    "            print(i, j)\n",
    "            check_points = final_points.copy()\n",
    "            for k in range(i, 50):\n",
    "                for l in range(j, 50):\n",
    "                    if N[k][l] == 1 and not(k == i and l == j):\n",
    "                        check = True\n",
    "                        print(check_points)\n",
    "                        for final_point in check_points:\n",
    "                            if (final_point[0] <= k and final_point[0] >= i) or (final_point[0] >= k and final_point[1] >= l):\n",
    "                                check = False\n",
    "                                break\n",
    "                        check_points.append([k, l])\n",
    "                        if check:\n",
    "                            print(k, l)\n",
    "                            final_count += 1\n",
    "            final_points.append([i, j])\n",
    "\n",
    "print(final_count)\n"
   ]
  },
  {
   "cell_type": "code",
   "execution_count": null,
   "id": "8e567f35",
   "metadata": {},
   "outputs": [],
   "source": []
  }
 ],
 "metadata": {
  "kernelspec": {
   "display_name": "torch",
   "language": "python",
   "name": "python3"
  },
  "language_info": {
   "codemirror_mode": {
    "name": "ipython",
    "version": 3
   },
   "file_extension": ".py",
   "mimetype": "text/x-python",
   "name": "python",
   "nbconvert_exporter": "python",
   "pygments_lexer": "ipython3",
   "version": "3.11.10"
  }
 },
 "nbformat": 4,
 "nbformat_minor": 5
}
