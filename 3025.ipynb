{
 "cells": [
  {
   "cell_type": "markdown",
   "id": "bd721e52",
   "metadata": {},
   "source": [
    "\n",
    "# 3025. Find the Number of Ways to Place People I\n",
    "### Medium\n",
    "\n",
    "You are given a 2D array points of size n x 2 representing integer coordinates of some points on a 2D plane, where points[i] = [xi, yi].\n",
    "\n",
    "Count the number of pairs of points (A, B), where\n",
    "\n",
    "A is on the upper left side of B, and\n",
    "there are no other points in the rectangle (or line) they make (including the border).\n",
    "Return the count.\n",
    "\n",
    " "
   ]
  },
  {
   "cell_type": "code",
   "execution_count": 86,
   "id": "e6034a44",
   "metadata": {},
   "outputs": [],
   "source": [
    "def numberOfPairs(points):\n",
    "    \"\"\"\n",
    "    :type points: List[List[int]]\n",
    "    :rtype: int\n",
    "    \"\"\"\n",
    "    # This creates a 50x50 2D list (matrix) filled with zeros, with each row being a separate object.\n",
    "    N = [[0]*50 for _ in range(50)]\n",
    "    points = [[0,1],[1,3],[6,1]]\n",
    "    for point in points:\n",
    "        N[50 - point[0]][point[1]] = 1\n",
    "    final_count = 0\n",
    "    final_points = []\n",
    "    for i in range(50):\n",
    "        for j in range(50):\n",
    "            if N[i][j] == 1:\n",
    "                print(i, j)\n",
    "                check_points = []\n",
    "                for k in range(i, 50):\n",
    "                    for l in range(j, 50):\n",
    "                        if N[k][l] == 1 and not(k == i and l == j):\n",
    "                            check = True\n",
    "                            print(check_points)\n",
    "                            for final_point in check_points:\n",
    "                                if (final_point[0] <= k and final_point[0] >= i) or (final_point[0] >= k and final_point[1] >= l):\n",
    "                                    check = False\n",
    "                                    break\n",
    "                            check_points.append([k, l])\n",
    "                            if check:\n",
    "                                print(k, l)\n",
    "                                final_count += 1\n",
    "                final_points.append([i, j])\n",
    "\n",
    "    return final_count\n",
    "    "
   ]
  },
  {
   "cell_type": "code",
   "execution_count": 106,
   "id": "62c2012a",
   "metadata": {},
   "outputs": [
    {
     "name": "stdout",
     "output_type": "stream",
     "text": [
      "50\n",
      "50\n",
      "0\n"
     ]
    }
   ],
   "source": [
    "# This creates a 50x50 2D list (matrix) filled with zeros, with each row being a separate object.\n",
    "N = [[0]*50 for _ in range(50)]\n",
    "points = [[8,45],[9,13],[48,24],[14,39],[5,26],[26,19],[11,6],[36,38],[42,45],[37,32],[6,18],[24,8],[43,38],[38,27],[31,50],[16,21],[26,16],[31,42],[40,18],[31,38],[20,45],[47,32],[3,0],[43,29],[48,12]]\n",
    "\n",
    "print(len(N))\n",
    "print(len(N[0]))\n",
    "print(N[0][1])\n"
   ]
  },
  {
   "cell_type": "code",
   "execution_count": 108,
   "id": "1b75be28",
   "metadata": {},
   "outputs": [
    {
     "name": "stdout",
     "output_type": "stream",
     "text": [
      "[8, 45]\n",
      "[9, 13]\n",
      "[48, 24]\n",
      "[14, 39]\n",
      "[5, 26]\n",
      "[26, 19]\n",
      "[11, 6]\n",
      "[36, 38]\n",
      "[42, 45]\n",
      "[37, 32]\n",
      "[6, 18]\n",
      "[24, 8]\n",
      "[43, 38]\n",
      "[38, 27]\n",
      "[31, 50]\n"
     ]
    },
    {
     "ename": "IndexError",
     "evalue": "list assignment index out of range",
     "output_type": "error",
     "traceback": [
      "\u001b[1;31m---------------------------------------------------------------------------\u001b[0m",
      "\u001b[1;31mIndexError\u001b[0m                                Traceback (most recent call last)",
      "Cell \u001b[1;32mIn[108], line 3\u001b[0m\n\u001b[0;32m      1\u001b[0m \u001b[38;5;28;01mfor\u001b[39;00m point \u001b[38;5;129;01min\u001b[39;00m points:\n\u001b[0;32m      2\u001b[0m     \u001b[38;5;28mprint\u001b[39m(point)\n\u001b[1;32m----> 3\u001b[0m     N[\u001b[38;5;241m49\u001b[39m \u001b[38;5;241m-\u001b[39m point[\u001b[38;5;241m0\u001b[39m]][point[\u001b[38;5;241m1\u001b[39m]] \u001b[38;5;241m=\u001b[39m \u001b[38;5;241m1\u001b[39m\n",
      "\u001b[1;31mIndexError\u001b[0m: list assignment index out of range"
     ]
    }
   ],
   "source": [
    "for point in points:\n",
    "    print(point)\n",
    "    N[49 - point[0]][point[1]] = 1\n"
   ]
  },
  {
   "cell_type": "code",
   "execution_count": 104,
   "id": "81f8cbc1",
   "metadata": {},
   "outputs": [
    {
     "name": "stdout",
     "output_type": "stream",
     "text": [
      "43 1\n",
      "[]\n",
      "48 3\n",
      "[[48, 3]]\n",
      "49 1\n",
      "48 3\n",
      "49 1\n",
      "2\n"
     ]
    }
   ],
   "source": [
    "final_count = 0\n",
    "final_points = []\n",
    "for i in range(50):\n",
    "    for j in range(50):\n",
    "        if N[i][j] == 1:\n",
    "            print(i, j)\n",
    "            check_points = []\n",
    "            for k in range(i, 50):\n",
    "                for l in range(j, 50):\n",
    "                    if N[k][l] == 1 and not(k == i and l == j):\n",
    "                        check = True\n",
    "                        print(check_points)\n",
    "                        for final_point in check_points:\n",
    "                            if (final_point[0] <= k and final_point[0] >= i) and (final_point[0] >= k and final_point[1] >= l):\n",
    "                                check = False\n",
    "                                break\n",
    "                        check_points.append([k, l])\n",
    "                        if check:\n",
    "                            print(k, l)\n",
    "                            final_count += 1\n",
    "            final_points.append([i, j])\n",
    "\n",
    "print(final_count)\n"
   ]
  },
  {
   "cell_type": "code",
   "execution_count": 105,
   "id": "8e567f35",
   "metadata": {},
   "outputs": [
    {
     "data": {
      "image/png": "[encoded data removed]",
      "text/plain": [
       "<Figure size 600x600 with 1 Axes>"
      ]
     },
     "metadata": {},
     "output_type": "display_data"
    }
   ],
   "source": [
    "import matplotlib.pyplot as plt\n",
    "\n",
    "# Find all points where N[i][j] == 1\n",
    "x_coords = []\n",
    "y_coords = []\n",
    "for i in range(50):\n",
    "    for j in range(50):\n",
    "        if N[i][j] == 1:\n",
    "            x_coords.append(j)\n",
    "            y_coords.append(50 - i)  # To match the original coordinate system\n",
    "\n",
    "plt.figure(figsize=(6,6))\n",
    "plt.scatter(x_coords, y_coords, c='red', marker='o')\n",
    "plt.xlim(0, 49)\n",
    "plt.ylim(0, 49)\n",
    "plt.xlabel('X')\n",
    "plt.ylabel('Y')\n",
    "plt.title('Points where N[i][j] == 1')\n",
    "plt.grid(True)\n",
    "plt.show()\n"
   ]
  },
  {
   "cell_type": "code",
   "execution_count": null,
   "id": "a5ac892c",
   "metadata": {},
   "outputs": [],
   "source": [
    "point_x, point1, point2\n",
    "\n",
    "if point_x[0] <= point_2[0] and point_x[1] <= point_2[1] and point_x[0] >= point_1[0] and point_1[1] >= point_x"
   ]
  }
 ],
 "metadata": {
  "kernelspec": {
   "display_name": "torch",
   "language": "python",
   "name": "python3"
  },
  "language_info": {
   "codemirror_mode": {
    "name": "ipython",
    "version": 3
   },
   "file_extension": ".py",
   "mimetype": "text/x-python",
   "name": "python",
   "nbconvert_exporter": "python",
   "pygments_lexer": "ipython3",
   "version": "3.11.10"
  }
 },
 "nbformat": 4,
 "nbformat_minor": 5
}
