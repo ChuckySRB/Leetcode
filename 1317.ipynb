{
 "cells": [
  {
   "cell_type": "markdown",
   "id": "c7daa1fa",
   "metadata": {},
   "source": [
    "# 1317. Convert Integer to the Sum of Two No-Zero Integers\n",
    "\n",
    "### Easy\n",
    "\n",
    "No-Zero integer is a positive integer that does not contain any 0 in its decimal representation.\n",
    "\n",
    "Given an integer n, return a list of two integers [a, b] where:\n",
    "\n",
    "a and b are No-Zero integers.\n",
    "a + b = n\n",
    "The test cases are generated so that there is at least one valid solution. If there are many valid solutions, you can return any of them."
   ]
  },
  {
   "cell_type": "code",
   "execution_count": null,
   "id": "68b5e9e9",
   "metadata": {},
   "outputs": [],
   "source": [
    "class Solution(object):\n",
    "    def getNoZeroIntegers(self, n):\n",
    "        \"\"\"\n",
    "        :type n: int\n",
    "        :rtype: List[int]\n",
    "        \"\"\"\n",
    "        ostatak = 0\n",
    "        broj = 0 if n > 9 else 1\n",
    "        stepen_cifre = 0\n",
    "        decimala = n\n",
    "        while decimala > 9:\n",
    "            cifra = decimala % 10 - ostatak\n",
    "            ostatak = 1 if cifra <= 1 else 0          \n",
    "            if cifra == 1:\n",
    "                broj += 2 * 10**stepen_cifre\n",
    "            else:\n",
    "                broj += 1 * 10**stepen_cifre\n",
    "            decimala = decimala // 10\n",
    "            stepen_cifre += 1\n",
    "        \n",
    "        return [broj, n-broj]"
   ]
  }
 ],
 "metadata": {
  "language_info": {
   "name": "python"
  }
 },
 "nbformat": 4,
 "nbformat_minor": 5
}
