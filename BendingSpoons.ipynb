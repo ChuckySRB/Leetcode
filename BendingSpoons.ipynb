{
 "cells": [
  {
   "cell_type": "markdown",
   "id": "97055c65",
   "metadata": {},
   "source": [
    "# Bending Spoons Entry Code Test"
   ]
  },
  {
   "cell_type": "code",
   "execution_count": 71,
   "id": "4289cff4",
   "metadata": {},
   "outputs": [
    {
     "name": "stdout",
     "output_type": "stream",
     "text": [
      "0\n"
     ]
    }
   ],
   "source": [
    "n =  7\n",
    "c = 0\n",
    "while n >= 0:\n",
    "    n-=2\n",
    "    c = c + n -2\n",
    "\n",
    "print(c) "
   ]
  },
  {
   "cell_type": "code",
   "execution_count": 18,
   "id": "b6142232",
   "metadata": {},
   "outputs": [],
   "source": [
    "def and_list(l):\n",
    "    n = l[0]\n",
    "    for i in range(1, len(l)):\n",
    "        n &= l[i]\n",
    "    return n"
   ]
  },
  {
   "cell_type": "code",
   "execution_count": 19,
   "id": "78dd189f",
   "metadata": {},
   "outputs": [],
   "source": [
    "def xor_list(l):\n",
    "    n = l[0]\n",
    "    for i in range(1, len(l)):\n",
    "        n ^= l[i]\n",
    "    return n\n"
   ]
  },
  {
   "cell_type": "code",
   "execution_count": 67,
   "id": "1a496543",
   "metadata": {},
   "outputs": [
    {
     "name": "stdout",
     "output_type": "stream",
     "text": [
      "99022\n",
      "1041\n"
     ]
    }
   ],
   "source": [
    "l = [99999, 1111, 99997, 99995]\n",
    "print(xor_list(l))\n",
    "print(and_list(l))"
   ]
  },
  {
   "cell_type": "code",
   "execution_count": 68,
   "id": "4d94f3b5",
   "metadata": {},
   "outputs": [],
   "source": [
    "def f(X):\n",
    "    n = len(X)\n",
    "    if n == 0:\n",
    "        return 0\n",
    "    i = 1\n",
    "    contg_lists = []\n",
    "    for i in range(0, n):\n",
    "        for j in range(0, n-i):\n",
    "            # print(X[j:i+j+1])\n",
    "            contg_lists.append(X[j:i+j+1])\n",
    "    \n",
    "    xored_list = [xor_list(x) for x in contg_lists]\n",
    "    # print(xored_list)\n",
    "    anded_list = and_list(xored_list)\n",
    "    return anded_list\n"
   ]
  },
  {
   "cell_type": "code",
   "execution_count": 69,
   "id": "cdbd904a",
   "metadata": {},
   "outputs": [
    {
     "data": {
      "text/plain": [
       "0"
      ]
     },
     "execution_count": 69,
     "metadata": {},
     "output_type": "execute_result"
    }
   ],
   "source": [
    "f(l)"
   ]
  },
  {
   "cell_type": "code",
   "execution_count": 70,
   "id": "98121122",
   "metadata": {},
   "outputs": [],
   "source": [
    "# Effective Function\n",
    "def f_eff(X):\n",
    "    if len(X) == 1:\n",
    "        return X[0]\n",
    "    return 0"
   ]
  },
  {
   "cell_type": "markdown",
   "id": "77715486",
   "metadata": {},
   "source": [
    "Let's say we have the list of numbers [AAAA, BBBB, ...] (A and B are placeholder bits that can be 0 or 1)\n",
    "The operations that will have to be done are (AAAA) AND (BBBB) AND (AAAA XOR BBBB) AND (OTHER PAIRS OF NUMBERS FROM THE LIST) ...\n",
    "So we will look at first 2 operations AAAA & BBBB and AAAA ^ BBBB: \n",
    "1) if first digit A is equalt to first digit B and are both 1, then the resulting digit of operation and would be 1, but on the operation xor it would be 0\n",
    "So the resulting digit of the hole operation would be 0, regardles of the rest OTHER PAIRS the digit at that place would be 0 at that place.\n",
    "So 1AAA & 1BBB & (1AAA ^ 1BBB) = 1CCC & 0DDD = 0EEE. This could be aplied to all other digits\n",
    "2) if A and B are different 1, and 0 then 0AAA & 1BBB & (0AAA ^ 1BBB) = 0CCC & 1DDD = 0EEE. This diggit is again 0, and can be true for all other diggits\n",
    "3) if A and B are 0 then the resulting diggit is 0 because xor and and both give 0 for their operations\n",
    "\n",
    "We can conclude that regardless of wich numbers are in the list the resulting final number will be 0, if the lenght of the list is 2 or more, if there is\n",
    "only one number in the list then the result is that number, because no operations can be done.\n",
    "\n"
   ]
  },
  {
   "cell_type": "code",
   "execution_count": null,
   "id": "f4e0b433",
   "metadata": {},
   "outputs": [],
   "source": []
  }
 ],
 "metadata": {
  "kernelspec": {
   "display_name": "torch",
   "language": "python",
   "name": "python3"
  },
  "language_info": {
   "codemirror_mode": {
    "name": "ipython",
    "version": 3
   },
   "file_extension": ".py",
   "mimetype": "text/x-python",
   "name": "python",
   "nbconvert_exporter": "python",
   "pygments_lexer": "ipython3",
   "version": "3.11.10"
  }
 },
 "nbformat": 4,
 "nbformat_minor": 5
}
