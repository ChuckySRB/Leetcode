{
 "cells": [
  {
   "cell_type": "markdown",
   "id": "dc9ddf11",
   "metadata": {},
   "source": [
    "3195. Find the Minimum Area to Cover All Ones I\n",
    "Medium\n",
    "Topics\n",
    "premium lock icon\n",
    "Companies\n",
    "Hint\n",
    "You are given a 2D binary array grid. Find a rectangle with horizontal and vertical sides with the smallest area, such that all the 1's in grid lie inside this rectangle.\n",
    "\n",
    "Return the minimum possible area of the rectangle."
   ]
  },
  {
   "cell_type": "code",
   "execution_count": 23,
   "id": "f7c685c2",
   "metadata": {},
   "outputs": [
    {
     "data": {
      "text/plain": [
       "(3, 3)"
      ]
     },
     "execution_count": 23,
     "metadata": {},
     "output_type": "execute_result"
    }
   ],
   "source": [
    "grid = [[0, 1, 0], [1, 0, 0], [1, 1, 1]]\n",
    "\n",
    "n_rows: int = len(grid)\n",
    "\n",
    "if not n_rows:\n",
    "    print (0)\n",
    "\n",
    "n_columns: int = len(grid[0]) \n",
    "\n",
    "n_rows, n_columns"
   ]
  },
  {
   "cell_type": "code",
   "execution_count": 24,
   "id": "338bdc93",
   "metadata": {},
   "outputs": [
    {
     "data": {
      "text/plain": [
       "3"
      ]
     },
     "execution_count": 24,
     "metadata": {},
     "output_type": "execute_result"
    }
   ],
   "source": [
    "first, last = 0, 0\n",
    "for i in range(0, n_rows):\n",
    "    if (sum(grid[i]) > 0):\n",
    "        first = i+1 if last == 0 else first\n",
    "        last = i+1 if first > 0 else last\n",
    "\n",
    "\n",
    "a = last - first + 1\n",
    "\n",
    "a"
   ]
  },
  {
   "cell_type": "code",
   "execution_count": 25,
   "id": "067c5468",
   "metadata": {},
   "outputs": [
    {
     "data": {
      "text/plain": [
       "[[0, 1, 1], [1, 0, 1], [0, 0, 1]]"
      ]
     },
     "execution_count": 25,
     "metadata": {},
     "output_type": "execute_result"
    }
   ],
   "source": [
    "transpose_grid  = list(map(list, zip(*grid)))\n",
    "transpose_grid"
   ]
  },
  {
   "cell_type": "code",
   "execution_count": 26,
   "id": "18e4111e",
   "metadata": {},
   "outputs": [
    {
     "data": {
      "text/plain": [
       "9"
      ]
     },
     "execution_count": 26,
     "metadata": {},
     "output_type": "execute_result"
    }
   ],
   "source": [
    "def calcucate_side_lenght(grid):\n",
    "    first, last = 0, 0\n",
    "    n_rows = len(grid)\n",
    "    for i in range(0, n_rows):\n",
    "        if (sum(grid[i]) > 0):\n",
    "            first = i+1 if last == 0 else first\n",
    "            last = i+1 if first > 0 else last\n",
    "    a = last - first + 1\n",
    "    return a\n",
    "\n",
    "P = calcucate_side_lenght(grid) * calcucate_side_lenght(transpose_grid)\n",
    "\n",
    "P\n",
    "\n"
   ]
  },
  {
   "cell_type": "code",
   "execution_count": 27,
   "id": "978b2782",
   "metadata": {},
   "outputs": [],
   "source": [
    "transpose_grid  = list(map(list, zip(*grid)))\n"
   ]
  },
  {
   "cell_type": "code",
   "execution_count": null,
   "id": "cd96fff7",
   "metadata": {},
   "outputs": [],
   "source": []
  }
 ],
 "metadata": {
  "kernelspec": {
   "display_name": "torch",
   "language": "python",
   "name": "python3"
  },
  "language_info": {
   "codemirror_mode": {
    "name": "ipython",
    "version": 3
   },
   "file_extension": ".py",
   "mimetype": "text/x-python",
   "name": "python",
   "nbconvert_exporter": "python",
   "pygments_lexer": "ipython3",
   "version": "3.11.10"
  }
 },
 "nbformat": 4,
 "nbformat_minor": 5
}
