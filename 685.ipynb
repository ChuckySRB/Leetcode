{
 "cells": [
  {
   "cell_type": "markdown",
   "id": "d542f06c",
   "metadata": {},
   "source": [
    "# 685. Redundant Connection II\n",
    "### Hard\n",
    "### Topics\n",
    "\n",
    "In this problem, a rooted tree is a directed graph such that, there is exactly one node (the root) for which all other nodes are descendants of this node, plus every node has exactly one parent, except for the root node which has no parents.\n",
    "\n",
    "The given input is a directed graph that started as a rooted tree with n nodes (with distinct values from 1 to n), with one additional directed edge added. The added edge has two different vertices chosen from 1 to n, and was not an edge that already existed.\n",
    "\n",
    "The resulting graph is given as a 2D-array of edges. Each element of edges is a pair [ui, vi] that represents a directed edge connecting nodes ui and vi, where ui is a parent of child vi.\n",
    "\n",
    "Return an edge that can be removed so that the resulting graph is a rooted tree of n nodes. If there are multiple answers, return the answer that occurs last in the given 2D-array."
   ]
  },
  {
   "cell_type": "code",
   "execution_count": 58,
   "id": "82b6400b",
   "metadata": {},
   "outputs": [],
   "source": [
    "def findRedundantDirectedConnection(self, edges):\n",
    "    \"\"\"\n",
    "    :type edges: List[List[int]]\n",
    "    :rtype: List[int]\n",
    "    \"\"\"\n",
    "\n",
    "    pass"
   ]
  },
  {
   "cell_type": "code",
   "execution_count": 73,
   "id": "95cb6857",
   "metadata": {},
   "outputs": [],
   "source": [
    "class Node(object):\n",
    "    def __init__(self, num = -1):\n",
    "        self.num = num\n",
    "        self.children = []\n",
    "        self.parent = []\n",
    "    def add_child(self, node):\n",
    "        self.children.append(node)\n",
    "        node.add_parent(self)\n",
    "    def add_parent(self, node):\n",
    "        self.parent.append(node)\n",
    "    def remove_child(self, num):\n",
    "        for i, child in enumerate(self.children):\n",
    "            if child.num == num:\n",
    "                self.children.pop(i)"
   ]
  },
  {
   "cell_type": "code",
   "execution_count": 74,
   "id": "078ca74e",
   "metadata": {},
   "outputs": [],
   "source": [
    "edges =[[5,2],[5,1],[3,1],[3,4],[3,5]]\n",
    "\n",
    "# Find root node\n",
    "root = 1\n",
    "\n",
    "# Iterate all nodes to find levels: \n",
    "levels = [[1], [2, 3, 4], [5]]\n",
    "\n",
    "nodes = {}\n",
    "\n",
    "for edge in edges:\n",
    "    node1 = edge[0]\n",
    "    node2 = edge[1]\n",
    "    if not nodes.get(node1):\n",
    "        nodes[node1] = Node(node1)\n",
    "    if not nodes.get(node2):\n",
    "        nodes[node2] = Node(node2)\n",
    "    nodes[node1].add_child(nodes[node2])\n",
    "\n",
    "# Find connection that connects same or level above\n",
    "\n",
    "\n"
   ]
  },
  {
   "cell_type": "code",
   "execution_count": 75,
   "id": "56327b80",
   "metadata": {},
   "outputs": [],
   "source": [
    "def test_graph_validity(root_node, n_nodes):\n",
    "    level = [root_node]\n",
    "    nodes = []\n",
    "    while len(level):\n",
    "        next_level = []\n",
    "        while len(level):\n",
    "            cur_node = level.pop()\n",
    "            next_level = next_level + cur_node.children\n",
    "            if cur_node.num not in nodes:\n",
    "                nodes.append(cur_node.num)\n",
    "            else:\n",
    "                return False # Loop \n",
    "        level = next_level\n",
    "    if len(nodes) == n_nodes:\n",
    "        return True    \n",
    "    return False # Not All Nodes Reached"
   ]
  },
  {
   "cell_type": "code",
   "execution_count": 78,
   "id": "15b97c84",
   "metadata": {},
   "outputs": [
    {
     "name": "stdout",
     "output_type": "stream",
     "text": [
      "[[3, 5], [5, 2], [3, 4]] 3\n"
     ]
    }
   ],
   "source": [
    "# Find Root Node\n",
    "root_node = -1\n",
    "candidate_root_nodes = []\n",
    "candidate_bad_edges = []\n",
    "for node in nodes.values():\n",
    "    if len(node.parent) == 0:\n",
    "        root_node = node.num\n",
    "    elif len(node.parent) == 1:\n",
    "        candidate_root_nodes.append([node.parent[0].num ,node.num])\n",
    "    elif len(node.parent) == 2:\n",
    "        candidate_bad_edges.append([node.parent[0].num ,node.num])\n",
    "        candidate_bad_edges.append([node.parent[1].num ,node.num])\n",
    "        \n",
    "        \n",
    "\n",
    "print(candidate_root_nodes, root_node)"
   ]
  },
  {
   "cell_type": "code",
   "execution_count": null,
   "id": "061871f6",
   "metadata": {},
   "outputs": [
    {
     "name": "stdout",
     "output_type": "stream",
     "text": [
      "[[3, 1], [5, 1]]\n",
      "[[5, 1], [3, 1]]\n",
      "[3, 1]\n",
      "[5, 1]\n"
     ]
    }
   ],
   "source": [
    "# If there is no root_node\n",
    "if root_node == -1:\n",
    "    n_nodes = len(nodes)\n",
    "    # Order Candidates\n",
    "    ordered_cantidates = []\n",
    "    rev_edges = edges.copy()\n",
    "    rev_edges.reverse()\n",
    "    for edge in rev_edges:\n",
    "        for candidate in candidate_root_nodes:\n",
    "            if edge == candidate:\n",
    "                ordered_cantidates.append(candidate)\n",
    "\n",
    "    for candidate in ordered_cantidates:\n",
    "        root = nodes[candidate[1]]\n",
    "        parent_node = root.parent[0]\n",
    "        parent_node.remove_child(root.num)\n",
    "        if test_graph_validity(root, n_nodes):\n",
    "            print(candidate)\n",
    "            # return candidate\n",
    "        parent_node.add_child(root)\n",
    "else:\n",
    "    root = nodes[root_node]\n",
    "    n_nodes = len(nodes)\n",
    "    # Order Candidates\n",
    "    ordered_cantidates = []\n",
    "    rev_edges = edges.copy()\n",
    "    rev_edges.reverse()\n",
    "    for edge in rev_edges:\n",
    "        for candidate in candidate_bad_edges:\n",
    "            if edge == candidate:\n",
    "                ordered_cantidates.append(candidate)\n",
    "    print(ordered_cantidates)\n",
    "    print(candidate_bad_edges)\n",
    "    for candidate in ordered_cantidates:\n",
    "        bad_node = nodes[candidate[1]]\n",
    "        parent_node = nodes[candidate[0]]\n",
    "        parent_node.remove_child(bad_node.num)\n",
    "        if test_graph_validity(root, n_nodes):\n",
    "            print(candidate)\n",
    "            # return candidate\n",
    "        parent_node.add_child(bad_node)"
   ]
  },
  {
   "cell_type": "code",
   "execution_count": null,
   "id": "7cc8cf19",
   "metadata": {},
   "outputs": [],
   "source": [
    "\n",
    "\n",
    "# levels = {}\n",
    "\n",
    "# problem_child_node = 0\n",
    "\n",
    "# level = [nodes[root_node]]\n",
    "\n",
    "# n_level = 1"
   ]
  },
  {
   "cell_type": "code",
   "execution_count": null,
   "id": "76ae98e7",
   "metadata": {},
   "outputs": [],
   "source": [
    "# while len(level):\n",
    "#     next_level = []\n",
    "#     while len(level):\n",
    "#         cur_node = level.pop()\n",
    "#         next_level = next_level + cur_node.children\n",
    "#         if not levels.get(cur_node.num):\n",
    "#             levels[cur_node.num] = n_level\n",
    "#         else:\n",
    "#             problem_child_node = cur_node.num\n",
    "#             next_level = []\n",
    "#             break\n",
    "#     level = next_level\n",
    "#     n_level += 1    \n"
   ]
  },
  {
   "cell_type": "code",
   "execution_count": null,
   "id": "27fb436e",
   "metadata": {},
   "outputs": [
    {
     "name": "stdout",
     "output_type": "stream",
     "text": [
      "1\n",
      "[5, 1]\n",
      "[[5, 1], [3, 1]]\n",
      "{3: 1, 5: 2, 4: 2, 1: 2}\n"
     ]
    }
   ],
   "source": [
    "# parent_edges = []\n",
    "# print(problem_child_node)\n",
    "# for edge in edges:\n",
    "#     if edge[1] == problem_child_node and levels.get(edge[0]):\n",
    "#         parent_edges.append(edge)\n",
    "#         if levels.get(edge[0]) >= levels.get(edge[1]):\n",
    "#             print(edge)\n",
    "\n",
    "# print(parent_edges)\n",
    "# print(levels)\n"
   ]
  },
  {
   "cell_type": "code",
   "execution_count": null,
   "id": "70ed283a",
   "metadata": {},
   "outputs": [],
   "source": []
  }
 ],
 "metadata": {
  "kernelspec": {
   "display_name": "torch",
   "language": "python",
   "name": "python3"
  },
  "language_info": {
   "codemirror_mode": {
    "name": "ipython",
    "version": 3
   },
   "file_extension": ".py",
   "mimetype": "text/x-python",
   "name": "python",
   "nbconvert_exporter": "python",
   "pygments_lexer": "ipython3",
   "version": "3.11.10"
  }
 },
 "nbformat": 4,
 "nbformat_minor": 5
}
