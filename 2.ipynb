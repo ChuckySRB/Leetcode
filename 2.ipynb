{
 "cells": [
  {
   "cell_type": "markdown",
   "id": "89bda357",
   "metadata": {},
   "source": [
    "# 2. Add Two Numbers\n",
    "Medium\n",
    "Topics\n",
    "premium lock icon\n",
    "Companies\n",
    "You are given two non-empty linked lists representing two non-negative integers. The digits are stored in reverse order, and each of their nodes contains a single digit. Add the two numbers and return the sum as a linked list.\n",
    "\n",
    "You may assume the two numbers do not contain any leading zero, except the number 0 itself."
   ]
  },
  {
   "cell_type": "code",
   "execution_count": 3,
   "id": "d2e91ba3",
   "metadata": {},
   "outputs": [],
   "source": [
    "# Definition for singly-linked list.\n",
    "class ListNode(object):\n",
    "    def __init__(self, val=0, next=None):\n",
    "        self.val = val\n",
    "        self.next = next\n",
    "\n",
    "# class Solution(object):\n",
    "#     def addTwoNumbers(self, l1, l2):\n",
    "#         \"\"\"\n",
    "#         :type l1: Optional[ListNode]\n",
    "#         :type l2: Optional[ListNode]\n",
    "#         :rtype: Optional[ListNode]\n",
    "#         \"\"\"\n",
    "#         pass\n",
    "\n",
    "l1 = ListNode(1, ListNode(8))\n",
    "l2 = ListNode(2, ListNode(8))\n",
    "\n"
   ]
  },
  {
   "cell_type": "code",
   "execution_count": null,
   "id": "160a6517",
   "metadata": {},
   "outputs": [],
   "source": [
    "l3 = ListNode()\n",
    "extra = 0\n",
    "cur = l3\n",
    "\n",
    "while True:\n",
    "    a1 = l1.val if l1 else 0\n",
    "    a2 = l2.val if l2 else 0\n",
    "    b = a1 + a2 + extra\n",
    "    extra = int(b // 10)\n",
    "    b = b % 10\n",
    "\n",
    "    cur.val = b\n",
    "    \n",
    "    l1 = l1.next if l1 else None\n",
    "    l2 = l2.next if l2 else None\n",
    "    \n",
    "    if l1 or l2 or extra:\n",
    "        cur.next = ListNode()\n",
    "        cur = cur.next\n",
    "    else:\n",
    "        break\n",
    "\n",
    "\n"
   ]
  }
 ],
 "metadata": {
  "kernelspec": {
   "display_name": "torch",
   "language": "python",
   "name": "python3"
  },
  "language_info": {
   "codemirror_mode": {
    "name": "ipython",
    "version": 3
   },
   "file_extension": ".py",
   "mimetype": "text/x-python",
   "name": "python",
   "nbconvert_exporter": "python",
   "pygments_lexer": "ipython3",
   "version": "3.11.10"
  }
 },
 "nbformat": 4,
 "nbformat_minor": 5
}
