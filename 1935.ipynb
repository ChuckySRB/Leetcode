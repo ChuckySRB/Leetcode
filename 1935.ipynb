{
 "cells": [
  {
   "cell_type": "markdown",
   "id": "e4f2b0f8",
   "metadata": {},
   "source": [
    "# 1935. Maximum Number of Words You Can Type\n",
    "### Easy\n",
    "\n",
    "There is a malfunctioning keyboard where some letter keys do not work. All other keys on the keyboard work properly.\n",
    "\n",
    "Given a string text of words separated by a single space (no leading or trailing spaces) and a string brokenLetters of all distinct letter keys that are broken, return the number of words in text you can fully type using this keyboard."
   ]
  },
  {
   "cell_type": "code",
   "execution_count": 1,
   "id": "4d148c17",
   "metadata": {},
   "outputs": [],
   "source": [
    "def canBeTypedWords(text, brokenLetters):\n",
    "    \"\"\"\n",
    "    :type text: str\n",
    "    :type brokenLetters: str\n",
    "    :rtype: int\n",
    "    \"\"\"\n",
    "    text = text.split(\" \")\n",
    "    n = len(text)\n",
    "    for word in text:\n",
    "        for l in brokenLetters:\n",
    "            if l in word:\n",
    "                n-=1\n",
    "                break\n",
    "    return n"
   ]
  },
  {
   "cell_type": "code",
   "execution_count": null,
   "id": "649a4a67",
   "metadata": {},
   "outputs": [],
   "source": []
  }
 ],
 "metadata": {
  "kernelspec": {
   "display_name": "torch",
   "language": "python",
   "name": "python3"
  },
  "language_info": {
   "codemirror_mode": {
    "name": "ipython",
    "version": 3
   },
   "file_extension": ".py",
   "mimetype": "text/x-python",
   "name": "python",
   "nbconvert_exporter": "python",
   "pygments_lexer": "ipython3",
   "version": "3.11.10"
  }
 },
 "nbformat": 4,
 "nbformat_minor": 5
}
