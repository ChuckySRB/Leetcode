{
 "cells": [
  {
   "cell_type": "markdown",
   "id": "f0c1d4b3",
   "metadata": {},
   "source": [
    "Playground\n"
   ]
  },
  {
   "cell_type": "code",
   "execution_count": 4,
   "id": "aeb808c9",
   "metadata": {},
   "outputs": [],
   "source": [
    "#add helper functions here if needed\n",
    "import re\n"
   ]
  },
  {
   "cell_type": "code",
   "execution_count": 22,
   "id": "cffb01c5",
   "metadata": {},
   "outputs": [],
   "source": [
    "import re\n",
    "\n",
    "def inverse_operation(operator):\n",
    "    if operator == '+':\n",
    "        return '-'\n",
    "    elif operator == '-':\n",
    "        return '+'\n",
    "    elif operator == '*':\n",
    "        return '/'\n",
    "    return '*'\n",
    "\n",
    "def calculate_equation(a, b, operator):\n",
    "    if operator == '+':\n",
    "        return a+b\n",
    "    elif operator == '-':\n",
    "        return a-b\n",
    "    elif operator == '*':\n",
    "        return a*b\n",
    "    return a/b"
   ]
  },
  {
   "cell_type": "code",
   "execution_count": 53,
   "id": "48a96e00",
   "metadata": {},
   "outputs": [],
   "source": [
    "equation = \"4x+2=44\""
   ]
  },
  {
   "cell_type": "code",
   "execution_count": 54,
   "id": "2b62a0e2",
   "metadata": {},
   "outputs": [
    {
     "data": {
      "text/plain": [
       "'4x+2'"
      ]
     },
     "execution_count": 54,
     "metadata": {},
     "output_type": "execute_result"
    }
   ],
   "source": [
    "    # WRITE YOUR CODE HERE\n",
    "#print (\"hello world\")\n",
    "\n",
    "# Split the equation first part + '='  + second \n",
    "\n",
    "equation2 = equation.split('=')\n",
    "\n",
    "operation_string = equation2[0]\n",
    "int3 = equation2[1]\n",
    "\n",
    "operation_string\n"
   ]
  },
  {
   "cell_type": "code",
   "execution_count": 55,
   "id": "e6fb88e8",
   "metadata": {},
   "outputs": [],
   "source": [
    "\n",
    "# split the first part of the equation first int + 'operation' + second int\n",
    "\n",
    "operators = ['+', '-', '*', '/']\n",
    "\n",
    "for letter in operation_string:\n",
    "    if letter in operators:\n",
    "        operator = letter\n",
    "        break\n",
    "\n",
    "intigers = operation_string.split(letter)\n",
    "\n",
    "int1 = intigers[0]\n",
    "int2 = intigers[1]\n",
    "\n",
    "\n"
   ]
  },
  {
   "cell_type": "code",
   "execution_count": 56,
   "id": "a4808a14",
   "metadata": {},
   "outputs": [],
   "source": [
    "\n",
    "# Find X\n",
    "# Calculate the equation\n",
    "if 'x' in int3:\n",
    "    final_num = calculate_equation(int(int1), int(int2), operator)\n",
    "    x_string = int3\n",
    "elif 'x' in int2:\n",
    "    x_string = int2\n",
    "    if operator in ['+', '*']:\n",
    "        final_num = calculate_equation(int(int3), int(int1), inverse_operation(operator))\n",
    "    else:\n",
    "        final_num = calculate_equation(int(int1), int(int3), operator) \n",
    "\n",
    "else:\n",
    "    x_string = int1\n",
    "    final_num = calculate_equation(int(int3), int(int2), inverse_operation(operator))\n",
    "\n"
   ]
  },
  {
   "cell_type": "code",
   "execution_count": 57,
   "id": "0de73c5e",
   "metadata": {},
   "outputs": [
    {
     "data": {
      "text/plain": [
       "(42, '4x')"
      ]
     },
     "execution_count": 57,
     "metadata": {},
     "output_type": "execute_result"
    }
   ],
   "source": [
    "final_num, x_string\n",
    "\n"
   ]
  },
  {
   "cell_type": "code",
   "execution_count": 58,
   "id": "dcaa4979",
   "metadata": {},
   "outputs": [
    {
     "name": "stdout",
     "output_type": "stream",
     "text": [
      "2\n"
     ]
    }
   ],
   "source": [
    "\n",
    "\n",
    "# Find wich position X is on, and return solution\n",
    "for c in x_string[::-1]:\n",
    "    if c=='x':\n",
    "        final_num = final_num%10\n",
    "        break\n",
    "    final_num = final_num // 10\n",
    "\n",
    "print(final_num)"
   ]
  },
  {
   "cell_type": "code",
   "execution_count": 47,
   "id": "b1503c77",
   "metadata": {},
   "outputs": [
    {
     "data": {
      "text/plain": [
       "2"
      ]
     },
     "execution_count": 47,
     "metadata": {},
     "output_type": "execute_result"
    }
   ],
   "source": [
    "20 // 10"
   ]
  }
 ],
 "metadata": {
  "kernelspec": {
   "display_name": "torch",
   "language": "python",
   "name": "python3"
  },
  "language_info": {
   "codemirror_mode": {
    "name": "ipython",
    "version": 3
   },
   "file_extension": ".py",
   "mimetype": "text/x-python",
   "name": "python",
   "nbconvert_exporter": "python",
   "pygments_lexer": "ipython3",
   "version": "3.11.10"
  }
 },
 "nbformat": 4,
 "nbformat_minor": 5
}
